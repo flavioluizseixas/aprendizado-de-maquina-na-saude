{
 "cells": [
  {
   "cell_type": "markdown",
   "id": "cf5219fb",
   "metadata": {},
   "source": [
    "## Experimento 7 — Estatística Descritiva\n",
    "**Objetivo:** calcular métricas descritivas e tratar outliers por IQR.\n",
    "\n",
    "**Enunciado:**  \n",
    "1. Carregue o dataset **Iris** (`sklearn.datasets.load_iris`) e crie um `DataFrame` com `sepal length (cm)`.  \n",
    "2. Calcule **média, mediana e desvio padrão** dessa variável.  \n",
    "3. **Tarefa Extra:** **remova outliers** usando a regra do **IQR (Q3 − Q1)** e **recalcule** as métricas.\n"
   ]
  },
  {
   "cell_type": "code",
   "execution_count": 1,
   "id": "029705b7",
   "metadata": {},
   "outputs": [],
   "source": [
    "from sklearn.datasets import load_iris"
   ]
  },
  {
   "cell_type": "code",
   "execution_count": 2,
   "id": "8df69c57",
   "metadata": {},
   "outputs": [
    {
     "name": "stdout",
     "output_type": "stream",
     "text": [
      "Média: 5.843, Mediana: 5.800, Desvio: 0.828\n"
     ]
    }
   ],
   "source": [
    "# Código-base\n",
    "iris = load_iris(as_frame=True)\n",
    "df = iris.frame[['sepal length (cm)']].copy()\n",
    "df.rename(columns={'sepal length (cm)': 'sepal_length'}, inplace=True)\n",
    "\n",
    "media = df['sepal_length'].mean()\n",
    "mediana = df['sepal_length'].median()\n",
    "desvio = df['sepal_length'].std()\n",
    "\n",
    "print(f\"Média: {media:.3f}, Mediana: {mediana:.3f}, Desvio: {desvio:.3f}\")\n"
   ]
  },
  {
   "cell_type": "markdown",
   "id": "f280b6b7",
   "metadata": {},
   "source": [
    "### Adaptação (Extra)\n",
    "- Calcule Q1 e Q3 com `quantile(0.25)` e `quantile(0.75)`.\n",
    "- IQR = Q3 − Q1.\n",
    "- Limites: inferior = Q1 − 1.5*IQR, superior = Q3 + 1.5*IQR.\n",
    "- Filtre o DataFrame e recalcule as métricas.\n"
   ]
  }
 ],
 "metadata": {
  "kernelspec": {
   "display_name": "myenv",
   "language": "python",
   "name": "python3"
  },
  "language_info": {
   "codemirror_mode": {
    "name": "ipython",
    "version": 3
   },
   "file_extension": ".py",
   "mimetype": "text/x-python",
   "name": "python",
   "nbconvert_exporter": "python",
   "pygments_lexer": "ipython3",
   "version": "3.11.11"
  }
 },
 "nbformat": 4,
 "nbformat_minor": 5
}
