{
 "cells": [
  {
   "cell_type": "markdown",
   "id": "1e01f511",
   "metadata": {},
   "source": [
    "## Experimento 8 — Visualização com matplotlib\n",
    "**Objetivo:** fazer um histograma com linhas de média e mediana.\n",
    "\n",
    "**Enunciado:**  \n",
    "1. Gere uma lista de **idades simuladas** (por exemplo, 100 valores inteiros entre 18 e 80).  \n",
    "2. Plote um **histograma** das idades usando apenas `matplotlib`.  \n",
    "3. **Tarefa Extra:** adicione **linhas verticais** para **média** e **mediana** com `axvline`.\n"
   ]
  },
  {
   "cell_type": "code",
   "execution_count": null,
   "id": "625b6d88",
   "metadata": {},
   "outputs": [],
   "source": [
    "import numpy as np\n",
    "import matplotlib.pyplot as plt"
   ]
  },
  {
   "cell_type": "code",
   "execution_count": null,
   "id": "770bcab6",
   "metadata": {},
   "outputs": [],
   "source": [
    "# Código-base\n",
    "idades = np.random.randint(18, 81, size=100)\n",
    "\n",
    "plt.figure()\n",
    "plt.hist(idades, bins=10)\n",
    "plt.title(\"Distribuição de Idades (simulada)\")\n",
    "plt.xlabel(\"Idade\")\n",
    "plt.ylabel(\"Frequência\")\n",
    "plt.show()\n"
   ]
  },
  {
   "cell_type": "markdown",
   "id": "685a12f9",
   "metadata": {},
   "source": [
    "### Adaptação (Extra)\n",
    "- Calcule média e mediana com `np.mean` e `np.median`.\n",
    "- Use `plt.axvline(valor, linestyle='--', linewidth=2, label='...')` e `plt.legend()`.\n"
   ]
  },
  {
   "cell_type": "code",
   "execution_count": null,
   "id": "ba614383",
   "metadata": {},
   "outputs": [],
   "source": [
    "# Código final (com Extra)\n",
    "idades = np.random.randint(18, 81, size=120)\n",
    "media = np.mean(idades)\n",
    "mediana = np.median(idades)\n",
    "\n",
    "plt.figure()\n",
    "plt.hist(idades, bins=12)\n",
    "plt.axvline(media, linestyle='--', linewidth=2, label=f\"Média: {media:.1f}\")\n",
    "plt.axvline(mediana, linestyle=':', linewidth=2, label=f\"Mediana: {mediana:.1f}\")\n",
    "plt.title(\"Distribuição de Idades (simulada)\")\n",
    "plt.xlabel(\"Idade\")\n",
    "plt.ylabel(\"Frequência\")\n",
    "plt.legend()\n",
    "plt.show()\n"
   ]
  }
 ],
 "metadata": {
  "kernelspec": {
   "display_name": "Python 3",
   "language": "python",
   "name": "python3"
  },
  "language_info": {
   "name": "python",
   "version": ""
  }
 },
 "nbformat": 4,
 "nbformat_minor": 5
}
