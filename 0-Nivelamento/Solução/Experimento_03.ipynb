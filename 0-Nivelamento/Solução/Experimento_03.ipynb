{
 "cells": [
  {
   "cell_type": "markdown",
   "id": "63461d0a",
   "metadata": {},
   "source": [
    "# Nivelamento – Parte 1 (22/08)\n",
    "## Experimento 4\n",
    "Notebook individual."
   ]
  },
  {
   "cell_type": "code",
   "execution_count": null,
   "id": "574d8b26",
   "metadata": {},
   "outputs": [],
   "source": [
    "# ============== 1) Configuração Inicial ==============\n",
    "import math\n",
    "import numpy as np\n",
    "import pandas as pd\n",
    "import matplotlib.pyplot as plt\n",
    "\n",
    "# sklearn (para os experimentos de ML)\n",
    "from sklearn.datasets import load_iris\n",
    "from sklearn.model_selection import train_test_split\n",
    "from sklearn.naive_bayes import GaussianNB\n",
    "from sklearn.svm import SVC\n",
    "from sklearn.neighbors import KNeighborsClassifier\n",
    "from sklearn.pipeline import Pipeline\n",
    "from sklearn.preprocessing import StandardScaler\n",
    "from sklearn.metrics import accuracy_score, classification_report, confusion_matrix\n",
    "\n",
    "# Opção para gráficos inline (no Jupyter/Colab)\n",
    "# %matplotlib inline  # Descomente no Jupyter clássico se necessário\n",
    "\n",
    "RANDOM_STATE = 42\n",
    "np.random.seed(RANDOM_STATE)\n"
   ]
  },
  {
   "cell_type": "markdown",
   "id": "4a50ae78",
   "metadata": {},
   "source": [
    "## Experimento 3 — Estruturas de Repetição\n",
    "**Objetivo:** treinar `for` e `while`.\n",
    "\n",
    "**Enunciado:**  \n",
    "1. Imprima os **números pares** de 1 a 20 usando `for`.  \n",
    "2. **Tarefa Extra:** adapte para imprimir os **múltiplos de 3** até 50 usando `while`.\n"
   ]
  },
  {
   "cell_type": "code",
   "execution_count": null,
   "id": "1b874bab",
   "metadata": {},
   "outputs": [],
   "source": [
    "# Código-base (pares de 1 a 20 com for)\n",
    "for n in range(1, 21):\n",
    "    if n % 2 == 0:\n",
    "        print(n, end=\" \")\n",
    "print()\n"
   ]
  },
  {
   "cell_type": "markdown",
   "id": "2d500a42",
   "metadata": {},
   "source": [
    "### Adaptação (Extra)\n",
    "- Use `while`, um contador e a condição `n % 3 == 0` até 50.\n"
   ]
  },
  {
   "cell_type": "code",
   "execution_count": null,
   "id": "3fe59f6c",
   "metadata": {},
   "outputs": [],
   "source": [
    "# Código final (com Extra - múltiplos de 3 até 50 com while)\n",
    "n = 1\n",
    "while n <= 50:\n",
    "    if n % 3 == 0:\n",
    "        print(n, end=\" \")\n",
    "    n += 1\n",
    "print()\n"
   ]
  }
 ],
 "metadata": {
  "kernelspec": {
   "display_name": "Python 3",
   "language": "python",
   "name": "python3"
  },
  "language_info": {
   "name": "python",
   "version": ""
  }
 },
 "nbformat": 4,
 "nbformat_minor": 5
}
