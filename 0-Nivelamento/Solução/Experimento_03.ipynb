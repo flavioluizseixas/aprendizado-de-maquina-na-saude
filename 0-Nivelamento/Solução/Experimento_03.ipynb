{
 "cells": [
  {
   "cell_type": "markdown",
   "id": "4a50ae78",
   "metadata": {},
   "source": [
    "## Experimento 3 — Estruturas de Repetição\n",
    "**Objetivo:** treinar `for` e `while`.\n",
    "\n",
    "**Enunciado:**  \n",
    "1. Imprima os **números pares** de 1 a 20 usando `for`.  \n",
    "2. **Tarefa Extra:** adapte para imprimir os **múltiplos de 3** até 50 usando `while`.\n"
   ]
  },
  {
   "cell_type": "markdown",
   "id": "43fae52e",
   "metadata": {},
   "source": [
    "[![Abrir no Colab](https://colab.research.google.com/assets/colab-badge.svg)](https://colab.research.google.com/github/flavioluizseixas/aprendizado-de-maquina-na-saude/blob/main/0-Nivelamento/Experimento_03.ipynb)"
   ]
  },
  {
   "cell_type": "code",
   "execution_count": 1,
   "id": "1b874bab",
   "metadata": {},
   "outputs": [
    {
     "name": "stdout",
     "output_type": "stream",
     "text": [
      "2 4 6 8 10 12 14 16 18 20 \n"
     ]
    }
   ],
   "source": [
    "# Código-base (pares de 1 a 20 com for)\n",
    "for n in range(1, 21):\n",
    "    if n % 2 == 0:\n",
    "        print(n, end=\" \")\n",
    "print()\n"
   ]
  },
  {
   "cell_type": "markdown",
   "id": "2d500a42",
   "metadata": {},
   "source": [
    "### Adaptação (Extra)\n",
    "- Use `while`, um contador e a condição `n % 3 == 0` até 50.\n"
   ]
  },
  {
   "cell_type": "code",
   "execution_count": 2,
   "id": "3fe59f6c",
   "metadata": {},
   "outputs": [
    {
     "name": "stdout",
     "output_type": "stream",
     "text": [
      "3 6 9 12 15 18 21 24 27 30 33 36 39 42 45 48 \n"
     ]
    }
   ],
   "source": [
    "# Código final (com Extra - múltiplos de 3 até 50 com while)\n",
    "n = 1\n",
    "while n <= 50:\n",
    "    if n % 3 == 0:\n",
    "        print(n, end=\" \")\n",
    "    n += 1\n",
    "print()\n"
   ]
  }
 ],
 "metadata": {
  "kernelspec": {
   "display_name": "myenv",
   "language": "python",
   "name": "python3"
  },
  "language_info": {
   "codemirror_mode": {
    "name": "ipython",
    "version": 3
   },
   "file_extension": ".py",
   "mimetype": "text/x-python",
   "name": "python",
   "nbconvert_exporter": "python",
   "pygments_lexer": "ipython3",
   "version": "3.12.5"
  }
 },
 "nbformat": 4,
 "nbformat_minor": 5
}
