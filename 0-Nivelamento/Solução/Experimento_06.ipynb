{
 "cells": [
  {
   "cell_type": "markdown",
   "id": "8503a9b1",
   "metadata": {},
   "source": [
    "## Experimento 6 — List Comprehensions + NumPy\n",
    "**Objetivo:** criar listas com comprehensions e trabalhar com arrays/matrizes.\n",
    "\n",
    "**Enunciado:**  \n",
    "1. Gere uma lista com os **quadrados de 1 a 10** usando list comprehension.  \n",
    "2. Crie um **array NumPy** a partir dessa lista e uma **matriz 3×3** usando `reshape`.  \n",
    "3. **Tarefa Extra:** **filtre apenas os quadrados pares** usando compreensão de listas e, no array NumPy, use **indexação booleana**.\n"
   ]
  },
  {
   "cell_type": "markdown",
   "id": "2fb43538",
   "metadata": {},
   "source": [
    "[![Abrir no Colab](https://colab.research.google.com/assets/colab-badge.svg)](https://colab.research.google.com/github/flavioluizseixas/aprendizado-de-maquina-na-saude/blob/main/0-Nivelamento/Experimento_06.ipynb)"
   ]
  },
  {
   "cell_type": "code",
   "execution_count": 1,
   "id": "541ea7fe",
   "metadata": {},
   "outputs": [],
   "source": [
    "import numpy as np"
   ]
  },
  {
   "cell_type": "code",
   "execution_count": 2,
   "id": "9138aa96",
   "metadata": {},
   "outputs": [
    {
     "name": "stdout",
     "output_type": "stream",
     "text": [
      "Quadrados: [1, 4, 9, 16, 25, 36, 49, 64, 81, 100]\n",
      "Array: [  1   4   9  16  25  36  49  64  81 100]\n",
      "Matriz 3x3:\n",
      " [[ 1  4  9]\n",
      " [16 25 36]\n",
      " [49 64 81]]\n"
     ]
    }
   ],
   "source": [
    "# Código-base\n",
    "quadrados = [n**2 for n in range(1, 11)]\n",
    "print(\"Quadrados:\", quadrados)\n",
    "\n",
    "arr = np.array(quadrados)\n",
    "mat = arr[:9].reshape(3, 3)\n",
    "print(\"Array:\", arr)\n",
    "print(\"Matriz 3x3:\\n\", mat)\n"
   ]
  },
  {
   "cell_type": "markdown",
   "id": "4988d043",
   "metadata": {},
   "source": [
    "### Adaptação (Extra)\n",
    "- Lista: `[q for q in quadrados if q % 2 == 0]`\n",
    "- NumPy: `arr[arr % 2 == 0]`\n"
   ]
  },
  {
   "cell_type": "code",
   "execution_count": 3,
   "id": "73fa756d",
   "metadata": {},
   "outputs": [
    {
     "name": "stdout",
     "output_type": "stream",
     "text": [
      "Quadrados: [1, 4, 9, 16, 25, 36, 49, 64, 81, 100]\n",
      "Quadrados pares (lista): [4, 16, 36, 64, 100]\n",
      "Quadrados pares (NumPy): [  4  16  36  64 100]\n",
      "Matriz 3x3:\n",
      " [[ 1  4  9]\n",
      " [16 25 36]\n",
      " [49 64 81]]\n"
     ]
    }
   ],
   "source": [
    "# Código final (com Extra)\n",
    "quadrados = [n**2 for n in range(1, 11)]\n",
    "pares_lista = [q for q in quadrados if q % 2 == 0]\n",
    "\n",
    "arr = np.array(quadrados)\n",
    "pares_arr = arr[arr % 2 == 0]\n",
    "\n",
    "print(\"Quadrados:\", quadrados)\n",
    "print(\"Quadrados pares (lista):\", pares_lista)\n",
    "print(\"Quadrados pares (NumPy):\", pares_arr)\n",
    "\n",
    "mat = arr[:9].reshape(3, 3)\n",
    "print(\"Matriz 3x3:\\n\", mat)\n"
   ]
  }
 ],
 "metadata": {
  "kernelspec": {
   "display_name": "myenv",
   "language": "python",
   "name": "python3"
  },
  "language_info": {
   "codemirror_mode": {
    "name": "ipython",
    "version": 3
   },
   "file_extension": ".py",
   "mimetype": "text/x-python",
   "name": "python",
   "nbconvert_exporter": "python",
   "pygments_lexer": "ipython3",
   "version": "3.11.11"
  }
 },
 "nbformat": 4,
 "nbformat_minor": 5
}
