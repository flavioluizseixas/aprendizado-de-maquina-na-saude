{
 "cells": [
  {
   "cell_type": "markdown",
   "id": "8503a9b1",
   "metadata": {},
   "source": [
    "## Experimento 6 — List Comprehensions + NumPy\n",
    "**Objetivo:** criar listas com comprehensions e trabalhar com arrays/matrizes.\n",
    "\n",
    "**Enunciado:**  \n",
    "1. Gere uma lista com os **quadrados de 1 a 10** usando list comprehension.  \n",
    "2. Crie um **array NumPy** a partir dessa lista e uma **matriz 3×3** usando `reshape`.  \n",
    "3. **Tarefa Extra:** **filtre apenas os quadrados pares** usando compreensão de listas e, no array NumPy, use **indexação booleana**.\n"
   ]
  },
  {
   "cell_type": "code",
   "execution_count": null,
   "id": "541ea7fe",
   "metadata": {},
   "outputs": [],
   "source": [
    "import numpy as np"
   ]
  },
  {
   "cell_type": "code",
   "execution_count": null,
   "id": "9138aa96",
   "metadata": {},
   "outputs": [],
   "source": [
    "# Código-base\n",
    "quadrados = [n**2 for n in range(1, 11)]\n",
    "print(\"Quadrados:\", quadrados)\n",
    "\n",
    "arr = np.array(quadrados)\n",
    "mat = arr[:9].reshape(3, 3)\n",
    "print(\"Array:\", arr)\n",
    "print(\"Matriz 3x3:\\n\", mat)\n"
   ]
  },
  {
   "cell_type": "markdown",
   "id": "4988d043",
   "metadata": {},
   "source": [
    "### Adaptação (Extra)\n",
    "- Lista: `[q for q in quadrados if q % 2 == 0]`\n",
    "- NumPy: `arr[arr % 2 == 0]`\n"
   ]
  },
  {
   "cell_type": "code",
   "execution_count": null,
   "id": "73fa756d",
   "metadata": {},
   "outputs": [],
   "source": [
    "# Código final (com Extra)\n",
    "quadrados = [n**2 for n in range(1, 11)]\n",
    "pares_lista = [q for q in quadrados if q % 2 == 0]\n",
    "\n",
    "arr = np.array(quadrados)\n",
    "pares_arr = arr[arr % 2 == 0]\n",
    "\n",
    "print(\"Quadrados:\", quadrados)\n",
    "print(\"Quadrados pares (lista):\", pares_lista)\n",
    "print(\"Quadrados pares (NumPy):\", pares_arr)\n",
    "\n",
    "mat = arr[:9].reshape(3, 3)\n",
    "print(\"Matriz 3x3:\\n\", mat)\n"
   ]
  }
 ],
 "metadata": {
  "kernelspec": {
   "display_name": "Python 3",
   "language": "python",
   "name": "python3"
  },
  "language_info": {
   "name": "python",
   "version": ""
  }
 },
 "nbformat": 4,
 "nbformat_minor": 5
}
