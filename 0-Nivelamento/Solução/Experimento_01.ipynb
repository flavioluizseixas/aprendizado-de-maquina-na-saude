{
 "cells": [
  {
   "cell_type": "markdown",
   "id": "848fbcf9",
   "metadata": {},
   "source": [
    "## Experimento 1 — Hello Python\n",
    "**Objetivo:** aquecer no Python com impressão de mensagens e operações básicas.\n",
    "\n",
    "**Enunciado:**  \n",
    "1. Escreva um programa que imprima uma mensagem de boas-vindas e realize 3 operações aritméticas simples.  \n",
    "2. **Tarefa Extra:** adapte o código para **ler dois números do usuário** e imprimir a **soma formatada** com duas casas decimais.\n"
   ]
  },
  {
   "cell_type": "markdown",
   "id": "6622a55d",
   "metadata": {},
   "source": [
    "[![Abrir no Colab](https://colab.research.google.com/assets/colab-badge.svg)](https://colab.research.google.com/github/flavioluizseixas/aprendizado-de-maquina-na-saude/blob/main/0-Nivelamento/Experimento_01.ipynb)"
   ]
  },
  {
   "cell_type": "code",
   "execution_count": 1,
   "id": "5908132e",
   "metadata": {},
   "outputs": [
    {
     "name": "stdout",
     "output_type": "stream",
     "text": [
      "Bem-vindos ao curso!\n",
      "Resultados: 10 6 30\n"
     ]
    }
   ],
   "source": [
    "# Código-base\n",
    "print(\"Bem-vindos ao curso!\")\n",
    "a = 7 + 3\n",
    "b = 10 - 4\n",
    "c = 5 * 6\n",
    "print(\"Resultados:\", a, b, c)\n"
   ]
  },
  {
   "cell_type": "markdown",
   "id": "9da93be6",
   "metadata": {},
   "source": [
    "### Extra\n",
    "- Use `input()` para ler dois valores.\n",
    "- Converta as strings para `float` ou `int`.\n",
    "- Use f-string para formatar a saída com 2 casas decimais.\n"
   ]
  },
  {
   "cell_type": "code",
   "execution_count": 2,
   "id": "0c1ff323",
   "metadata": {},
   "outputs": [
    {
     "name": "stdout",
     "output_type": "stream",
     "text": [
      "Bem-vindos ao curso!\n"
     ]
    },
    {
     "ename": "ValueError",
     "evalue": "could not convert string to float: ''",
     "output_type": "error",
     "traceback": [
      "\u001b[0;31m---------------------------------------------------------------------------\u001b[0m",
      "\u001b[0;31mValueError\u001b[0m                                Traceback (most recent call last)",
      "Cell \u001b[0;32mIn[2], line 3\u001b[0m\n\u001b[1;32m      1\u001b[0m \u001b[38;5;66;03m# Código final (com Extra)\u001b[39;00m\n\u001b[1;32m      2\u001b[0m \u001b[38;5;28mprint\u001b[39m(\u001b[38;5;124m\"\u001b[39m\u001b[38;5;124mBem-vindos ao curso!\u001b[39m\u001b[38;5;124m\"\u001b[39m)\n\u001b[0;32m----> 3\u001b[0m x \u001b[38;5;241m=\u001b[39m \u001b[38;5;28mfloat\u001b[39m(\u001b[38;5;28minput\u001b[39m(\u001b[38;5;124m\"\u001b[39m\u001b[38;5;124mDigite o primeiro número: \u001b[39m\u001b[38;5;124m\"\u001b[39m))\n\u001b[1;32m      4\u001b[0m y \u001b[38;5;241m=\u001b[39m \u001b[38;5;28mfloat\u001b[39m(\u001b[38;5;28minput\u001b[39m(\u001b[38;5;124m\"\u001b[39m\u001b[38;5;124mDigite o segundo número: \u001b[39m\u001b[38;5;124m\"\u001b[39m))\n\u001b[1;32m      5\u001b[0m soma \u001b[38;5;241m=\u001b[39m x \u001b[38;5;241m+\u001b[39m y\n",
      "\u001b[0;31mValueError\u001b[0m: could not convert string to float: ''"
     ]
    }
   ],
   "source": [
    "# Código final (com Extra)\n",
    "print(\"Bem-vindos ao curso!\")\n",
    "x = float(input(\"Digite o primeiro número: \"))\n",
    "y = float(input(\"Digite o segundo número: \"))\n",
    "soma = x + y\n",
    "print(f\"A soma de {x} + {y} = {soma:.2f}\")\n"
   ]
  }
 ],
 "metadata": {
  "kernelspec": {
   "display_name": "myenv",
   "language": "python",
   "name": "python3"
  },
  "language_info": {
   "codemirror_mode": {
    "name": "ipython",
    "version": 3
   },
   "file_extension": ".py",
   "mimetype": "text/x-python",
   "name": "python",
   "nbconvert_exporter": "python",
   "pygments_lexer": "ipython3",
   "version": "3.12.5"
  }
 },
 "nbformat": 4,
 "nbformat_minor": 5
}
