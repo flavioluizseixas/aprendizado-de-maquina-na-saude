{
 "cells": [
  {
   "cell_type": "markdown",
   "id": "cf5219fb",
   "metadata": {},
   "source": [
    "## Experimento 7 — Estatística Descritiva\n",
    "**Objetivo:** calcular métricas descritivas e tratar outliers por IQR.\n",
    "\n",
    "**Enunciado:**  \n",
    "1. Carregue o dataset **Iris** (`sklearn.datasets.load_iris`) e crie um `DataFrame` com `sepal length (cm)`.  \n",
    "2. Calcule **média, mediana e desvio padrão** dessa variável.  \n",
    "3. **Tarefa Extra:** **remova outliers** usando a regra do **IQR (Q3 − Q1)** e **recalcule** as métricas.\n"
   ]
  },
  {
   "cell_type": "code",
   "execution_count": null,
   "id": "0604ab11",
   "metadata": {},
   "outputs": [],
   "source": [
    "from sklearn.datasets import load_iris"
   ]
  },
  {
   "cell_type": "code",
   "execution_count": null,
   "id": "8df69c57",
   "metadata": {},
   "outputs": [],
   "source": [
    "# Código-base\n",
    "iris = load_iris(as_frame=True)\n",
    "df = iris.frame[['sepal length (cm)']].copy()\n",
    "df.rename(columns={'sepal length (cm)': 'sepal_length'}, inplace=True)\n",
    "\n",
    "media = df['sepal_length'].mean()\n",
    "mediana = df['sepal_length'].median()\n",
    "desvio = df['sepal_length'].std()\n",
    "\n",
    "print(f\"Média: {media:.3f}, Mediana: {mediana:.3f}, Desvio: {desvio:.3f}\")\n"
   ]
  },
  {
   "cell_type": "markdown",
   "id": "f280b6b7",
   "metadata": {},
   "source": [
    "### Adaptação (Extra)\n",
    "- Calcule Q1 e Q3 com `quantile(0.25)` e `quantile(0.75)`.\n",
    "- IQR = Q3 − Q1.\n",
    "- Limites: inferior = Q1 − 1.5*IQR, superior = Q3 + 1.5*IQR.\n",
    "- Filtre o DataFrame e recalcule as métricas.\n"
   ]
  },
  {
   "cell_type": "code",
   "execution_count": null,
   "id": "659e1324",
   "metadata": {},
   "outputs": [],
   "source": [
    "# Código final (com Extra)\n",
    "iris = load_iris(as_frame=True)\n",
    "df = iris.frame[['sepal length (cm)']].copy()\n",
    "df.rename(columns={'sepal length (cm)': 'sepal_length'}, inplace=True)\n",
    "\n",
    "Q1 = df['sepal_length'].quantile(0.25)\n",
    "Q3 = df['sepal_length'].quantile(0.75)\n",
    "IQR = Q3 - Q1\n",
    "low, high = Q1 - 1.5*IQR, Q3 + 1.5*IQR\n",
    "\n",
    "df_no_out = df[(df['sepal_length'] >= low) & (df['sepal_length'] <= high)]\n",
    "\n",
    "def resumo(serie):\n",
    "    return serie.mean(), serie.median(), serie.std()\n",
    "\n",
    "m1, md1, sd1 = resumo(df['sepal_length'])\n",
    "m2, md2, sd2 = resumo(df_no_out['sepal_length'])\n",
    "\n",
    "print(\"Com outliers ->\", f\"Média: {m1:.3f}, Mediana: {md1:.3f}, Desvio: {sd1:.3f}\")\n",
    "print(\"Sem outliers  ->\", f\"Média: {m2:.3f}, Mediana: {md2:.3f}, Desvio: {sd2:.3f}\")\n"
   ]
  }
 ],
 "metadata": {
  "kernelspec": {
   "display_name": "Python 3",
   "language": "python",
   "name": "python3"
  },
  "language_info": {
   "name": "python",
   "version": ""
  }
 },
 "nbformat": 4,
 "nbformat_minor": 5
}
