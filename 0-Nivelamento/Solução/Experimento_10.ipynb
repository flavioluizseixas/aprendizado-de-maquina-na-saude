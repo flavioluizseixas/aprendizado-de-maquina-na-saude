{
 "cells": [
  {
   "cell_type": "markdown",
   "id": "6e5004ce",
   "metadata": {},
   "source": [
    "## Experimento 10 — Comparando Modelos (NB, SVM, KNN)\n",
    "**Objetivo:** comparar modelos simples em um dataset clássico.\n",
    "\n",
    "**Enunciado:**  \n",
    "1. Use o **Iris**. Compare **GaussianNB**, **SVM** (linear) e **KNN** (k=5).  \n",
    "2. Reporte **acurácia**.  \n",
    "3. **Tarefa Extra:** compare diferentes **proporções de teste** (20%, 30%, 40%) e observe o impacto nas métricas.\n",
    "> Dica: para SVM e KNN, utilize `Pipeline(StandardScaler() -> Modelo)` para evitar *data leakage*."
   ]
  },
  {
   "cell_type": "markdown",
   "id": "0c25cfe6",
   "metadata": {},
   "source": [
    "[![Abrir no Colab](https://colab.research.google.com/assets/colab-badge.svg)](https://colab.research.google.com/github/flavioluizseixas/aprendizado-de-maquina-na-saude/blob/main/0-Nivelamento/Experimento_10.ipynb)"
   ]
  },
  {
   "cell_type": "code",
   "execution_count": 5,
   "id": "9112c0c6",
   "metadata": {},
   "outputs": [],
   "source": [
    "import math\n",
    "import numpy as np\n",
    "import pandas as pd\n",
    "import matplotlib.pyplot as plt\n",
    "\n",
    "# sklearn (para os experimentos de ML)\n",
    "from sklearn.datasets import load_iris\n",
    "from sklearn.model_selection import train_test_split\n",
    "from sklearn.naive_bayes import GaussianNB\n",
    "from sklearn.svm import SVC\n",
    "from sklearn.neighbors import KNeighborsClassifier\n",
    "from sklearn.pipeline import Pipeline\n",
    "from sklearn.preprocessing import StandardScaler\n",
    "from sklearn.metrics import accuracy_score, classification_report, confusion_matrix\n",
    "\n",
    "# Opção para gráficos inline (no Jupyter/Colab)\n",
    "# %matplotlib inline  # Descomente no Jupyter clássico se necessário\n",
    "\n",
    "RANDOM_STATE = 42\n",
    "np.random.seed(RANDOM_STATE)"
   ]
  },
  {
   "cell_type": "code",
   "execution_count": 6,
   "id": "803916ec",
   "metadata": {},
   "outputs": [
    {
     "name": "stdout",
     "output_type": "stream",
     "text": [
      "NaiveBayes: acc = 0.967\n",
      "SVM_linear: acc = 1.000\n",
      "KNN_k5: acc = 0.933\n"
     ]
    }
   ],
   "source": [
    "# Código-base (comparação simples)\n",
    "iris = load_iris()\n",
    "X = iris.data\n",
    "y = iris.target\n",
    "\n",
    "X_train, X_test, y_train, y_test = train_test_split(\n",
    "    X, y, test_size=0.2, random_state=RANDOM_STATE, stratify=y\n",
    ")\n",
    "\n",
    "models = {\n",
    "    \"NaiveBayes\": GaussianNB(),\n",
    "    \"SVM_linear\": Pipeline([(\"scaler\", StandardScaler()), (\"svc\", SVC(kernel=\"linear\", random_state=RANDOM_STATE))]),\n",
    "    \"KNN_k5\": Pipeline([(\"scaler\", StandardScaler()), (\"knn\", KNeighborsClassifier(n_neighbors=5))])\n",
    "}\n",
    "\n",
    "for name, model in models.items():\n",
    "    model.fit(X_train, y_train)\n",
    "    preds = model.predict(X_test)\n",
    "    acc = accuracy_score(y_test, preds)\n",
    "    print(f\"{name}: acc = {acc:.3f}\")\n"
   ]
  },
  {
   "cell_type": "markdown",
   "id": "51ef529d",
   "metadata": {},
   "source": [
    "### Adaptação (Extra)\n",
    "- Varie `test_size` em `[0.2, 0.3, 0.4]` e repita a comparação.\n",
    "- Use `stratify=y` para manter a proporção entre classes."
   ]
  },
  {
   "cell_type": "code",
   "execution_count": 7,
   "id": "50f9b896",
   "metadata": {},
   "outputs": [
    {
     "name": "stdout",
     "output_type": "stream",
     "text": [
      "\n",
      "=== test_size = 0.2 ===\n",
      "NaiveBayes: acc = 0.967\n",
      "SVM_linear: acc = 1.000\n",
      "KNN_k5: acc = 0.933\n",
      "\n",
      "=== test_size = 0.3 ===\n",
      "NaiveBayes: acc = 0.911\n",
      "SVM_linear: acc = 0.911\n",
      "KNN_k5: acc = 0.911\n",
      "\n",
      "=== test_size = 0.4 ===\n",
      "NaiveBayes: acc = 0.933\n",
      "SVM_linear: acc = 0.950\n",
      "KNN_k5: acc = 0.917\n"
     ]
    }
   ],
   "source": [
    "# Código final (com Extra - variação de test_size)\n",
    "iris = load_iris()\n",
    "X = iris.data\n",
    "y = iris.target\n",
    "\n",
    "def evaluate_split(test_size):\n",
    "    X_train, X_test, y_train, y_test = train_test_split(\n",
    "        X, y, test_size=test_size, random_state=RANDOM_STATE, stratify=y\n",
    "    )\n",
    "    models = {\n",
    "        \"NaiveBayes\": GaussianNB(),\n",
    "        \"SVM_linear\": Pipeline([(\"scaler\", StandardScaler()), (\"svc\", SVC(kernel=\"linear\", random_state=RANDOM_STATE))]),\n",
    "        \"KNN_k5\": Pipeline([(\"scaler\", StandardScaler()), (\"knn\", KNeighborsClassifier(n_neighbors=5))])\n",
    "    }\n",
    "    print(f\"\\n=== test_size = {test_size:.1f} ===\")\n",
    "    for name, model in models.items():\n",
    "        model.fit(X_train, y_train)\n",
    "        preds = model.predict(X_test)\n",
    "        acc = accuracy_score(y_test, preds)\n",
    "        print(f\"{name}: acc = {acc:.3f}\")\n",
    "\n",
    "for ts in [0.2, 0.3, 0.4]:\n",
    "    evaluate_split(ts)\n"
   ]
  }
 ],
 "metadata": {
  "kernelspec": {
   "display_name": "myenv",
   "language": "python",
   "name": "python3"
  },
  "language_info": {
   "codemirror_mode": {
    "name": "ipython",
    "version": 3
   },
   "file_extension": ".py",
   "mimetype": "text/x-python",
   "name": "python",
   "nbconvert_exporter": "python",
   "pygments_lexer": "ipython3",
   "version": "3.12.5"
  }
 },
 "nbformat": 4,
 "nbformat_minor": 5
}
