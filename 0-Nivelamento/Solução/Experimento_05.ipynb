{
 "cells": [
  {
   "cell_type": "markdown",
   "id": "b767e8dd",
   "metadata": {},
   "source": [
    "## Experimento 5 — Funções e Lambda\n",
    "**Objetivo:** definir funções, usar `lambda` e `map`.\n",
    "\n",
    "**Enunciado:**  \n",
    "1. Crie uma função `quadrado(x)` e aplique em uma lista usando `map` e `lambda`.  \n",
    "2. **Tarefa Extra:** adapte para também **retornar a raiz quadrada** de cada elemento na mesma iteração.\n"
   ]
  },
  {
   "cell_type": "markdown",
   "id": "f5f82790",
   "metadata": {},
   "source": [
    "[![Abrir no Colab](https://colab.research.google.com/assets/colab-badge.svg)](https://colab.research.google.com/github/flavioluizseixas/aprendizado-de-maquina-na-saude/blob/main/0-Nivelamento/Experimento_05.ipynb)"
   ]
  },
  {
   "cell_type": "code",
   "execution_count": 1,
   "id": "a1eaa7ae",
   "metadata": {},
   "outputs": [
    {
     "name": "stdout",
     "output_type": "stream",
     "text": [
      "[1, 16, 81, 256, 625]\n"
     ]
    }
   ],
   "source": [
    "# Código-base\n",
    "def quadrado(x):\n",
    "    return x * x\n",
    "\n",
    "valores = [1, 4, 9, 16, 25]\n",
    "result = list(map(lambda x: quadrado(x), valores))\n",
    "print(result)\n"
   ]
  },
  {
   "cell_type": "markdown",
   "id": "7bf8b23d",
   "metadata": {},
   "source": [
    "### Adaptação (Extra)\n",
    "- Use `math.sqrt(x)` para a raiz quadrada.\n",
    "- Gere tuplas `(quadrado, raiz)` para cada `x` e converta em lista.\n"
   ]
  },
  {
   "cell_type": "code",
   "execution_count": 3,
   "id": "9b59b601",
   "metadata": {},
   "outputs": [],
   "source": [
    "import math"
   ]
  },
  {
   "cell_type": "code",
   "execution_count": 4,
   "id": "03a1f9f5",
   "metadata": {},
   "outputs": [
    {
     "name": "stdout",
     "output_type": "stream",
     "text": [
      "[(1, 1.0), (16, 2.0), (81, 3.0), (256, 4.0), (625, 5.0)]\n"
     ]
    }
   ],
   "source": [
    "# Código final (com Extra)\n",
    "def quadrado(x):\n",
    "    return x * x\n",
    "\n",
    "valores = [1, 4, 9, 16, 25]\n",
    "result = list(map(lambda x: (quadrado(x), math.sqrt(x)), valores))\n",
    "print(result)  # [(q, sqrt), ...]\n"
   ]
  }
 ],
 "metadata": {
  "kernelspec": {
   "display_name": "myenv",
   "language": "python",
   "name": "python3"
  },
  "language_info": {
   "codemirror_mode": {
    "name": "ipython",
    "version": 3
   },
   "file_extension": ".py",
   "mimetype": "text/x-python",
   "name": "python",
   "nbconvert_exporter": "python",
   "pygments_lexer": "ipython3",
   "version": "3.12.5"
  }
 },
 "nbformat": 4,
 "nbformat_minor": 5
}
