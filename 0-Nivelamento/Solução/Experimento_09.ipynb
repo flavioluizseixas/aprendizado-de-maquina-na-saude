{
 "cells": [
  {
   "cell_type": "markdown",
   "id": "2c64f64a",
   "metadata": {},
   "source": [
    "## Experimento 9 — Naive Bayes (Classificação)\n",
    "**Objetivo:** treinar um classificador simples e avaliar acurácia.\n",
    "\n",
    "**Enunciado:**  \n",
    "1. Carregue o **Iris**. Separe treino/teste (80/20).  \n",
    "2. Treine **Gaussian Naive Bayes** e avalie **acurácia**.  \n",
    "3. **Tarefa Extra:** use **apenas 2 features** e **visualize a fronteira de decisão** em 2D com `contourf` + `scatter`.\n"
   ]
  },
  {
   "cell_type": "code",
   "execution_count": null,
   "id": "3d3aea46",
   "metadata": {},
   "outputs": [],
   "source": [
    "from sklearn.datasets import load_iris"
   ]
  },
  {
   "cell_type": "code",
   "execution_count": null,
   "id": "d9c13b57",
   "metadata": {},
   "outputs": [],
   "source": [
    "# Código-base\n",
    "iris = load_iris()\n",
    "X = iris.data\n",
    "y = iris.target\n",
    "\n",
    "X_train, X_test, y_train, y_test = train_test_split(\n",
    "    X, y, test_size=0.2, random_state=RANDOM_STATE, stratify=y\n",
    ")\n",
    "\n",
    "gnb = GaussianNB()\n",
    "gnb.fit(X_train, y_train)\n",
    "pred = gnb.predict(X_test)\n",
    "acc = accuracy_score(y_test, pred)\n",
    "print(f\"Acurácia (Naive Bayes): {acc:.3f}\")\n"
   ]
  },
  {
   "cell_type": "markdown",
   "id": "a3bf14b1",
   "metadata": {},
   "source": [
    "### Adaptação (Extra)\n",
    "- Escolha duas colunas (ex.: 0 e 2).  \n",
    "- Gere uma malha de pontos (`np.meshgrid`) no espaço 2D.  \n",
    "- Classifique a malha e plote `contourf` da decisão + `scatter` dos dados reais.\n"
   ]
  },
  {
   "cell_type": "code",
   "execution_count": null,
   "id": "86e1a1fb",
   "metadata": {},
   "outputs": [],
   "source": [
    "# Código final (com Extra - 2 features + fronteira de decisão)\n",
    "iris = load_iris()\n",
    "X = iris.data[:, [0, 2]]  # sepal length (cm) e petal length (cm)\n",
    "y = iris.target\n",
    "\n",
    "X_train, X_test, y_train, y_test = train_test_split(\n",
    "    X, y, test_size=0.2, random_state=RANDOM_STATE, stratify=y\n",
    ")\n",
    "\n",
    "clf = GaussianNB()\n",
    "clf.fit(X_train, y_train)\n",
    "\n",
    "# Avaliação\n",
    "pred = clf.predict(X_test)\n",
    "acc = accuracy_score(y_test, pred)\n",
    "print(f\"Acurácia (Naive Bayes, 2 features): {acc:.3f}\")\n",
    "\n",
    "# Fronteira de decisão\n",
    "x_min, x_max = X[:,0].min() - 1, X[:,0].max() + 1\n",
    "y_min, y_max = X[:,1].min() - 1, X[:,1].max() + 1\n",
    "\n",
    "xx, yy = np.meshgrid(\n",
    "    np.linspace(x_min, x_max, 200),\n",
    "    np.linspace(y_min, y_max, 200)\n",
    ")\n",
    "grid = np.c_[xx.ravel(), yy.ravel()]\n",
    "Z = clf.predict(grid).reshape(xx.shape)\n",
    "\n",
    "plt.figure()\n",
    "plt.contourf(xx, yy, Z, alpha=0.3)\n",
    "plt.scatter(X[:,0], X[:,1], c=y)\n",
    "plt.xlabel(iris.feature_names[0])\n",
    "plt.ylabel(iris.feature_names[2])\n",
    "plt.title(\"Naive Bayes — Fronteira de decisão (2 features)\")\n",
    "plt.show()\n"
   ]
  },
  {
   "cell_type": "markdown",
   "id": "f9cc235c",
   "metadata": {},
   "source": [
    "## Experimento 10 — Comparando Modelos (NB, SVM, KNN)\n",
    "**Objetivo:** comparar modelos simples em um dataset clássico.\n",
    "\n",
    "**Enunciado:**  \n",
    "1. Use o **Iris**. Compare **GaussianNB**, **SVM** (linear) e **KNN** (k=5).  \n",
    "2. Reporte **acurácia**.  \n",
    "3. **Tarefa Extra:** compare diferentes **proporções de teste** (20%, 30%, 40%) e observe o impacto nas métricas.\n",
    "> Dica: para SVM e KNN, utilize `Pipeline(StandardScaler() -> Modelo)` para evitar *data leakage*.\n"
   ]
  },
  {
   "cell_type": "code",
   "execution_count": null,
   "id": "5852054f",
   "metadata": {},
   "outputs": [],
   "source": [
    "# Código-base (comparação simples)\n",
    "iris = load_iris()\n",
    "X = iris.data\n",
    "y = iris.target\n",
    "\n",
    "X_train, X_test, y_train, y_test = train_test_split(\n",
    "    X, y, test_size=0.2, random_state=RANDOM_STATE, stratify=y\n",
    ")\n",
    "\n",
    "models = {\n",
    "    \"NaiveBayes\": GaussianNB(),\n",
    "    \"SVM_linear\": Pipeline([(\"scaler\", StandardScaler()), (\"svc\", SVC(kernel=\"linear\", random_state=RANDOM_STATE))]),\n",
    "    \"KNN_k5\": Pipeline([(\"scaler\", StandardScaler()), (\"knn\", KNeighborsClassifier(n_neighbors=5))])\n",
    "}\n",
    "\n",
    "for name, model in models.items():\n",
    "    model.fit(X_train, y_train)\n",
    "    preds = model.predict(X_test)\n",
    "    acc = accuracy_score(y_test, preds)\n",
    "    print(f\"{name}: acc = {acc:.3f}\")\n"
   ]
  },
  {
   "cell_type": "markdown",
   "id": "a3724d0e",
   "metadata": {},
   "source": [
    "### Adaptação (Extra)\n",
    "- Varie `test_size` em `[0.2, 0.3, 0.4]` e repita a comparação.\n",
    "- Use `stratify=y` para manter a proporção entre classes.\n"
   ]
  },
  {
   "cell_type": "code",
   "execution_count": null,
   "id": "f4baebd2",
   "metadata": {},
   "outputs": [],
   "source": [
    "# Código final (com Extra - variação de test_size)\n",
    "iris = load_iris()\n",
    "X = iris.data\n",
    "y = iris.target\n",
    "\n",
    "def evaluate_split(test_size):\n",
    "    X_train, X_test, y_train, y_test = train_test_split(\n",
    "        X, y, test_size=test_size, random_state=RANDOM_STATE, stratify=y\n",
    "    )\n",
    "    models = {\n",
    "        \"NaiveBayes\": GaussianNB(),\n",
    "        \"SVM_linear\": Pipeline([(\"scaler\", StandardScaler()), (\"svc\", SVC(kernel=\"linear\", random_state=RANDOM_STATE))]),\n",
    "        \"KNN_k5\": Pipeline([(\"scaler\", StandardScaler()), (\"knn\", KNeighborsClassifier(n_neighbors=5))])\n",
    "    }\n",
    "    print(f\"\\n=== test_size = {test_size:.1f} ===\")\n",
    "    for name, model in models.items():\n",
    "        model.fit(X_train, y_train)\n",
    "        preds = model.predict(X_test)\n",
    "        acc = accuracy_score(y_test, preds)\n",
    "        print(f\"{name}: acc = {acc:.3f}\")\n",
    "\n",
    "for ts in [0.2, 0.3, 0.4]:\n",
    "    evaluate_split(ts)\n"
   ]
  }
 ],
 "metadata": {
  "kernelspec": {
   "display_name": "Python 3",
   "language": "python",
   "name": "python3"
  },
  "language_info": {
   "name": "python",
   "version": ""
  }
 },
 "nbformat": 4,
 "nbformat_minor": 5
}
