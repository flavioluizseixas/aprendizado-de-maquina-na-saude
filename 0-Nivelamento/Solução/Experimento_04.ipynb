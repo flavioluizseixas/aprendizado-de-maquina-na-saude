{
 "cells": [
  {
   "cell_type": "markdown",
   "id": "b35dd2a4",
   "metadata": {},
   "source": [
    "# Nivelamento – Parte 1 (22/08)\n",
    "## Experimento 5\n",
    "Notebook individual."
   ]
  },
  {
   "cell_type": "code",
   "execution_count": null,
   "id": "7be3f67d",
   "metadata": {},
   "outputs": [],
   "source": [
    "# ============== 1) Configuração Inicial ==============\n",
    "import math\n",
    "import numpy as np\n",
    "import pandas as pd\n",
    "import matplotlib.pyplot as plt\n",
    "\n",
    "# sklearn (para os experimentos de ML)\n",
    "from sklearn.datasets import load_iris\n",
    "from sklearn.model_selection import train_test_split\n",
    "from sklearn.naive_bayes import GaussianNB\n",
    "from sklearn.svm import SVC\n",
    "from sklearn.neighbors import KNeighborsClassifier\n",
    "from sklearn.pipeline import Pipeline\n",
    "from sklearn.preprocessing import StandardScaler\n",
    "from sklearn.metrics import accuracy_score, classification_report, confusion_matrix\n",
    "\n",
    "# Opção para gráficos inline (no Jupyter/Colab)\n",
    "# %matplotlib inline  # Descomente no Jupyter clássico se necessário\n",
    "\n",
    "RANDOM_STATE = 42\n",
    "np.random.seed(RANDOM_STATE)\n"
   ]
  },
  {
   "cell_type": "markdown",
   "id": "2aa6ec23",
   "metadata": {},
   "source": [
    "## Experimento 4 — Listas e Dicionários\n",
    "**Objetivo:** manipular coleções básicas.\n",
    "\n",
    "**Enunciado:**  \n",
    "1. Crie um dicionário `notas = {\"Ana\": 8.5, \"Bruno\": 7.2, \"Carla\": 9.1}` e calcule a **média** das notas.  \n",
    "2. **Tarefa Extra:** adapte para **identificar o aluno com maior nota**.\n"
   ]
  },
  {
   "cell_type": "code",
   "execution_count": null,
   "id": "213c5884",
   "metadata": {},
   "outputs": [],
   "source": [
    "# Código-base\n",
    "notas = {\"Ana\": 8.5, \"Bruno\": 7.2, \"Carla\": 9.1}\n",
    "media = sum(notas.values()) / len(notas)\n",
    "print(f\"Média da turma: {media:.2f}\")\n"
   ]
  },
  {
   "cell_type": "markdown",
   "id": "54b1ef3f",
   "metadata": {},
   "source": [
    "### Adaptação (Extra)\n",
    "- Use `max(notas, key=notas.get)` para obter a chave com maior valor.\n"
   ]
  },
  {
   "cell_type": "code",
   "execution_count": null,
   "id": "b2a28927",
   "metadata": {},
   "outputs": [],
   "source": [
    "# Código final (com Extra)\n",
    "notas = {\"Ana\": 8.5, \"Bruno\": 7.2, \"Carla\": 9.1}\n",
    "media = sum(notas.values()) / len(notas)\n",
    "aluno_top = max(notas, key=notas.get)\n",
    "print(f\"Média da turma: {media:.2f}\")\n",
    "print(f\"Maior nota: {aluno_top} -> {notas[aluno_top]:.2f}\")\n"
   ]
  }
 ],
 "metadata": {
  "kernelspec": {
   "display_name": "Python 3",
   "language": "python",
   "name": "python3"
  },
  "language_info": {
   "name": "python",
   "version": ""
  }
 },
 "nbformat": 4,
 "nbformat_minor": 5
}
