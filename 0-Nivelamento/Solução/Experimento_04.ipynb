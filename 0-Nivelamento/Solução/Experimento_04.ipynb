{
 "cells": [
  {
   "cell_type": "markdown",
   "id": "2aa6ec23",
   "metadata": {},
   "source": [
    "## Experimento 4 — Listas e Dicionários\n",
    "**Objetivo:** manipular coleções básicas.\n",
    "\n",
    "**Enunciado:**  \n",
    "1. Crie um dicionário `notas = {\"Ana\": 8.5, \"Bruno\": 7.2, \"Carla\": 9.1}` e calcule a **média** das notas.  \n",
    "2. **Tarefa Extra:** adapte para **identificar o aluno com maior nota**.\n"
   ]
  },
  {
   "cell_type": "code",
   "execution_count": 1,
   "id": "213c5884",
   "metadata": {},
   "outputs": [
    {
     "name": "stdout",
     "output_type": "stream",
     "text": [
      "Média da turma: 8.27\n"
     ]
    }
   ],
   "source": [
    "# Código-base\n",
    "notas = {\"Ana\": 8.5, \"Bruno\": 7.2, \"Carla\": 9.1}\n",
    "media = sum(notas.values()) / len(notas)\n",
    "print(f\"Média da turma: {media:.2f}\")\n"
   ]
  },
  {
   "cell_type": "markdown",
   "id": "54b1ef3f",
   "metadata": {},
   "source": [
    "### Adaptação (Extra)\n",
    "- Use `max(notas, key=notas.get)` para obter a chave com maior valor.\n"
   ]
  },
  {
   "cell_type": "code",
   "execution_count": 2,
   "id": "b2a28927",
   "metadata": {},
   "outputs": [
    {
     "name": "stdout",
     "output_type": "stream",
     "text": [
      "Média da turma: 8.27\n",
      "Maior nota: Carla -> 9.10\n"
     ]
    }
   ],
   "source": [
    "# Código final (com Extra)\n",
    "notas = {\"Ana\": 8.5, \"Bruno\": 7.2, \"Carla\": 9.1}\n",
    "media = sum(notas.values()) / len(notas)\n",
    "aluno_top = max(notas, key=notas.get)\n",
    "print(f\"Média da turma: {media:.2f}\")\n",
    "print(f\"Maior nota: {aluno_top} -> {notas[aluno_top]:.2f}\")\n"
   ]
  }
 ],
 "metadata": {
  "kernelspec": {
   "display_name": "myenv",
   "language": "python",
   "name": "python3"
  },
  "language_info": {
   "codemirror_mode": {
    "name": "ipython",
    "version": 3
   },
   "file_extension": ".py",
   "mimetype": "text/x-python",
   "name": "python",
   "nbconvert_exporter": "python",
   "pygments_lexer": "ipython3",
   "version": "3.11.11"
  }
 },
 "nbformat": 4,
 "nbformat_minor": 5
}
