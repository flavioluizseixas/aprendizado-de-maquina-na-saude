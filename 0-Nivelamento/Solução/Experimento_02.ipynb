{
 "cells": [
  {
   "cell_type": "markdown",
   "id": "59a39587",
   "metadata": {},
   "source": [
    "## Experimento 2 — Estruturas Condicionais\n",
    "**Objetivo:** utilizar `if/elif/else`.\n",
    "\n",
    "**Enunciado:**  \n",
    "1. Leia uma idade e imprima se a pessoa é **maior de idade** (≥ 18) ou **menor de idade**.  \n",
    "2. **Tarefa Extra:** adapte para considerar **3 faixas**: criança (< 12), adolescente (12–17), adulto (≥ 18).\n"
   ]
  },
  {
   "cell_type": "code",
   "execution_count": null,
   "id": "bf03403f",
   "metadata": {},
   "outputs": [],
   "source": [
    "# Código-base\n",
    "idade = int(input(\"Idade: \"))\n",
    "if idade >= 18:\n",
    "    print(\"Maior de idade\")\n",
    "else:\n",
    "    print(\"Menor de idade\")\n"
   ]
  },
  {
   "cell_type": "markdown",
   "id": "f9c5ffda",
   "metadata": {},
   "source": [
    "### Adaptação (Extra)\n",
    "- Use condições encadeadas com `elif` para as três faixas.\n"
   ]
  },
  {
   "cell_type": "code",
   "execution_count": null,
   "id": "fda56293",
   "metadata": {},
   "outputs": [],
   "source": [
    "# Código final (com Extra)\n",
    "idade = int(input(\"Idade: \"))\n",
    "if idade < 12:\n",
    "    print(\"Criança\")\n",
    "elif idade < 18:\n",
    "    print(\"Adolescente\")\n",
    "else:\n",
    "    print(\"Adulto\")\n"
   ]
  }
 ],
 "metadata": {
  "kernelspec": {
   "display_name": "Python 3",
   "language": "python",
   "name": "python3"
  },
  "language_info": {
   "name": "python",
   "version": ""
  }
 },
 "nbformat": 4,
 "nbformat_minor": 5
}
