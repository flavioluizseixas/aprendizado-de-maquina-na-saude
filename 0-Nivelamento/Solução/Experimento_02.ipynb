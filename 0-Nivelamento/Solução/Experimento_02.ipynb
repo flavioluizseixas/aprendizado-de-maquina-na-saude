{
 "cells": [
  {
   "cell_type": "markdown",
   "id": "de7ab5a2",
   "metadata": {},
   "source": [
    "# Nivelamento – Parte 1 (22/08)\n",
    "## Experimento 3\n",
    "Notebook individual."
   ]
  },
  {
   "cell_type": "code",
   "execution_count": null,
   "id": "8ca662ea",
   "metadata": {},
   "outputs": [],
   "source": [
    "# ============== 1) Configuração Inicial ==============\n",
    "import math\n",
    "import numpy as np\n",
    "import pandas as pd\n",
    "import matplotlib.pyplot as plt\n",
    "\n",
    "# sklearn (para os experimentos de ML)\n",
    "from sklearn.datasets import load_iris\n",
    "from sklearn.model_selection import train_test_split\n",
    "from sklearn.naive_bayes import GaussianNB\n",
    "from sklearn.svm import SVC\n",
    "from sklearn.neighbors import KNeighborsClassifier\n",
    "from sklearn.pipeline import Pipeline\n",
    "from sklearn.preprocessing import StandardScaler\n",
    "from sklearn.metrics import accuracy_score, classification_report, confusion_matrix\n",
    "\n",
    "# Opção para gráficos inline (no Jupyter/Colab)\n",
    "# %matplotlib inline  # Descomente no Jupyter clássico se necessário\n",
    "\n",
    "RANDOM_STATE = 42\n",
    "np.random.seed(RANDOM_STATE)\n"
   ]
  },
  {
   "cell_type": "markdown",
   "id": "59a39587",
   "metadata": {},
   "source": [
    "## Experimento 2 — Estruturas Condicionais\n",
    "**Objetivo:** utilizar `if/elif/else`.\n",
    "\n",
    "**Enunciado:**  \n",
    "1. Leia uma idade e imprima se a pessoa é **maior de idade** (≥ 18) ou **menor de idade**.  \n",
    "2. **Tarefa Extra:** adapte para considerar **3 faixas**: criança (< 12), adolescente (12–17), adulto (≥ 18).\n"
   ]
  },
  {
   "cell_type": "code",
   "execution_count": null,
   "id": "bf03403f",
   "metadata": {},
   "outputs": [],
   "source": [
    "# Código-base\n",
    "idade = int(input(\"Idade: \"))\n",
    "if idade >= 18:\n",
    "    print(\"Maior de idade\")\n",
    "else:\n",
    "    print(\"Menor de idade\")\n"
   ]
  },
  {
   "cell_type": "markdown",
   "id": "f9c5ffda",
   "metadata": {},
   "source": [
    "### Adaptação (Extra)\n",
    "- Use condições encadeadas com `elif` para as três faixas.\n"
   ]
  },
  {
   "cell_type": "code",
   "execution_count": null,
   "id": "fda56293",
   "metadata": {},
   "outputs": [],
   "source": [
    "# Código final (com Extra)\n",
    "idade = int(input(\"Idade: \"))\n",
    "if idade < 12:\n",
    "    print(\"Criança\")\n",
    "elif idade < 18:\n",
    "    print(\"Adolescente\")\n",
    "else:\n",
    "    print(\"Adulto\")\n"
   ]
  }
 ],
 "metadata": {
  "kernelspec": {
   "display_name": "Python 3",
   "language": "python",
   "name": "python3"
  },
  "language_info": {
   "name": "python",
   "version": ""
  }
 },
 "nbformat": 4,
 "nbformat_minor": 5
}
