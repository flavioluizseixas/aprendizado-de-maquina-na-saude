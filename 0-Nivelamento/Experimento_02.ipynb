{
 "cells": [
  {
   "cell_type": "markdown",
   "id": "59a39587",
   "metadata": {},
   "source": [
    "## Experimento 2 — Estruturas Condicionais\n",
    "**Objetivo:** utilizar `if/elif/else`.\n",
    "\n",
    "**Enunciado:**  \n",
    "1. Leia uma idade e imprima se a pessoa é **maior de idade** (≥ 18) ou **menor de idade**.  \n",
    "2. **Tarefa Extra:** adapte para considerar **3 faixas**: criança (< 12), adolescente (12–17), adulto (≥ 18).\n"
   ]
  },
  {
   "cell_type": "markdown",
   "id": "c9ba1182",
   "metadata": {},
   "source": [
    "[![Abrir no Colab](https://colab.research.google.com/assets/colab-badge.svg)](https://colab.research.google.com/github/flavioluizseixas/aprendizado-de-maquina-na-saude/blob/main/0-Nivelamento/Experimento_02.ipynb)"
   ]
  },
  {
   "cell_type": "code",
   "execution_count": 1,
   "id": "bf03403f",
   "metadata": {},
   "outputs": [
    {
     "name": "stdout",
     "output_type": "stream",
     "text": [
      "Maior de idade\n"
     ]
    }
   ],
   "source": [
    "# Código-base\n",
    "idade = int(input(\"Idade: \"))\n",
    "if idade >= 18:\n",
    "    print(\"Maior de idade\")\n",
    "else:\n",
    "    print(\"Menor de idade\")\n"
   ]
  },
  {
   "cell_type": "markdown",
   "id": "f9c5ffda",
   "metadata": {},
   "source": [
    "### Extra\n",
    "- Use condições encadeadas com `elif` para as três faixas.\n"
   ]
  }
 ],
 "metadata": {
  "kernelspec": {
   "display_name": "myenv",
   "language": "python",
   "name": "python3"
  },
  "language_info": {
   "codemirror_mode": {
    "name": "ipython",
    "version": 3
   },
   "file_extension": ".py",
   "mimetype": "text/x-python",
   "name": "python",
   "nbconvert_exporter": "python",
   "pygments_lexer": "ipython3",
   "version": "3.12.5"
  }
 },
 "nbformat": 4,
 "nbformat_minor": 5
}
