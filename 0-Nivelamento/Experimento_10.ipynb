{
 "cells": [
  {
   "cell_type": "markdown",
   "id": "6e5004ce",
   "metadata": {},
   "source": [
    "## Experimento 10 — Comparando Modelos (NB, SVM, KNN)\n",
    "**Objetivo:** comparar modelos simples em um dataset clássico.\n",
    "\n",
    "**Enunciado:**  \n",
    "1. Use o **Iris**. Compare **GaussianNB**, **SVM** (linear) e **KNN** (k=5).  \n",
    "2. Reporte **acurácia**.  \n",
    "3. **Tarefa Extra:** compare diferentes **proporções de teste** (20%, 30%, 40%) e observe o impacto nas métricas.\n",
    "> Dica: para SVM e KNN, utilize `Pipeline(StandardScaler() -> Modelo)` para evitar *data leakage*."
   ]
  },
  {
   "cell_type": "code",
   "execution_count": null,
   "id": "55bee1a3",
   "metadata": {
    "vscode": {
     "languageId": "plaintext"
    }
   },
   "outputs": [],
   "source": [
    "from sklearn.datasets import load_iris"
   ]
  },
  {
   "cell_type": "code",
   "execution_count": null,
   "id": "803916ec",
   "metadata": {
    "vscode": {
     "languageId": "plaintext"
    }
   },
   "outputs": [],
   "source": [
    "# Código-base (comparação simples)\n",
    "iris = load_iris()\n",
    "X = iris.data\n",
    "y = iris.target\n",
    "\n",
    "X_train, X_test, y_train, y_test = train_test_split(\n",
    "    X, y, test_size=0.2, random_state=RANDOM_STATE, stratify=y\n",
    ")\n",
    "\n",
    "models = {\n",
    "    \"NaiveBayes\": GaussianNB(),\n",
    "    \"SVM_linear\": Pipeline([(\"scaler\", StandardScaler()), (\"svc\", SVC(kernel=\"linear\", random_state=RANDOM_STATE))]),\n",
    "    \"KNN_k5\": Pipeline([(\"scaler\", StandardScaler()), (\"knn\", KNeighborsClassifier(n_neighbors=5))])\n",
    "}\n",
    "\n",
    "for name, model in models.items():\n",
    "    model.fit(X_train, y_train)\n",
    "    preds = model.predict(X_test)\n",
    "    acc = accuracy_score(y_test, preds)\n",
    "    print(f\"{name}: acc = {acc:.3f}\")\n"
   ]
  },
  {
   "cell_type": "markdown",
   "id": "51ef529d",
   "metadata": {},
   "source": [
    "### Adaptação (Extra)\n",
    "- Varie `test_size` em `[0.2, 0.3, 0.4]` e repita a comparação.\n",
    "- Use `stratify=y` para manter a proporção entre classes."
   ]
  }
 ],
 "metadata": {
  "language_info": {
   "name": "python"
  }
 },
 "nbformat": 4,
 "nbformat_minor": 5
}
