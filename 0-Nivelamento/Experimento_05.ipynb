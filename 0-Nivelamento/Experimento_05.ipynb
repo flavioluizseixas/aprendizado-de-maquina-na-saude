{
 "cells": [
  {
   "cell_type": "markdown",
   "id": "5552b1b2",
   "metadata": {},
   "source": [
    "# Nivelamento – Parte 1 (22/08)\n",
    "## Experimento 6\n",
    "Notebook individual."
   ]
  },
  {
   "cell_type": "code",
   "execution_count": null,
   "id": "100b90a1",
   "metadata": {},
   "outputs": [],
   "source": [
    "# ============== 1) Configuração Inicial ==============\n",
    "import math\n",
    "import numpy as np\n",
    "import pandas as pd\n",
    "import matplotlib.pyplot as plt\n",
    "\n",
    "# sklearn (para os experimentos de ML)\n",
    "from sklearn.datasets import load_iris\n",
    "from sklearn.model_selection import train_test_split\n",
    "from sklearn.naive_bayes import GaussianNB\n",
    "from sklearn.svm import SVC\n",
    "from sklearn.neighbors import KNeighborsClassifier\n",
    "from sklearn.pipeline import Pipeline\n",
    "from sklearn.preprocessing import StandardScaler\n",
    "from sklearn.metrics import accuracy_score, classification_report, confusion_matrix\n",
    "\n",
    "# Opção para gráficos inline (no Jupyter/Colab)\n",
    "# %matplotlib inline  # Descomente no Jupyter clássico se necessário\n",
    "\n",
    "RANDOM_STATE = 42\n",
    "np.random.seed(RANDOM_STATE)\n"
   ]
  },
  {
   "cell_type": "markdown",
   "id": "b767e8dd",
   "metadata": {},
   "source": [
    "## Experimento 5 — Funções e Lambda\n",
    "**Objetivo:** definir funções, usar `lambda` e `map`.\n",
    "\n",
    "**Enunciado:**  \n",
    "1. Crie uma função `quadrado(x)` e aplique em uma lista usando `map` e `lambda`.  \n",
    "2. **Tarefa Extra:** adapte para também **retornar a raiz quadrada** de cada elemento na mesma iteração.\n"
   ]
  },
  {
   "cell_type": "code",
   "execution_count": null,
   "id": "a1eaa7ae",
   "metadata": {},
   "outputs": [],
   "source": [
    "# Código-base\n",
    "def quadrado(x):\n",
    "    return x * x\n",
    "\n",
    "valores = [1, 4, 9, 16, 25]\n",
    "result = list(map(lambda x: quadrado(x), valores))\n",
    "print(result)\n"
   ]
  },
  {
   "cell_type": "markdown",
   "id": "7bf8b23d",
   "metadata": {},
   "source": [
    "### Adaptação (Extra)\n",
    "- Use `math.sqrt(x)` para a raiz quadrada.\n",
    "- Gere tuplas `(quadrado, raiz)` para cada `x` e converta em lista.\n"
   ]
  },
  {
   "cell_type": "code",
   "execution_count": null,
   "id": "03a1f9f5",
   "metadata": {},
   "outputs": [],
   "source": [
    "# Código final (com Extra)\n",
    "def quadrado(x):\n",
    "    return x * x\n",
    "\n",
    "valores = [1, 4, 9, 16, 25]\n",
    "result = list(map(lambda x: (quadrado(x), math.sqrt(x)), valores))\n",
    "print(result)  # [(q, sqrt), ...]\n"
   ]
  }
 ],
 "metadata": {
  "kernelspec": {
   "display_name": "Python 3",
   "language": "python",
   "name": "python3"
  },
  "language_info": {
   "name": "python",
   "version": ""
  }
 },
 "nbformat": 4,
 "nbformat_minor": 5
}
