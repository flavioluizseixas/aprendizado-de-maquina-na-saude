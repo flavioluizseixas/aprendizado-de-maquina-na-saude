{
 "cells": [
  {
   "cell_type": "markdown",
   "id": "b767e8dd",
   "metadata": {},
   "source": [
    "## Experimento 5 — Funções e Lambda\n",
    "**Objetivo:** definir funções, usar `lambda` e `map`.\n",
    "\n",
    "**Enunciado:**  \n",
    "1. Crie uma função `quadrado(x)` e aplique em uma lista usando `map` e `lambda`.  \n",
    "2. **Tarefa Extra:** adapte para também **retornar a raiz quadrada** de cada elemento na mesma iteração.\n"
   ]
  },
  {
   "cell_type": "code",
   "execution_count": 1,
   "id": "a1eaa7ae",
   "metadata": {},
   "outputs": [
    {
     "name": "stdout",
     "output_type": "stream",
     "text": [
      "[1, 16, 81, 256, 625]\n"
     ]
    }
   ],
   "source": [
    "# Código-base\n",
    "def quadrado(x):\n",
    "    return x * x\n",
    "\n",
    "valores = [1, 4, 9, 16, 25]\n",
    "result = list(map(lambda x: quadrado(x), valores))\n",
    "print(result)\n"
   ]
  },
  {
   "cell_type": "markdown",
   "id": "7bf8b23d",
   "metadata": {},
   "source": [
    "### Extra\n",
    "- Use `math.sqrt(x)` para a raiz quadrada.\n",
    "- Gere tuplas `(quadrado, raiz)` para cada `x` e converta em lista.\n"
   ]
  }
 ],
 "metadata": {
  "kernelspec": {
   "display_name": "myenv",
   "language": "python",
   "name": "python3"
  },
  "language_info": {
   "codemirror_mode": {
    "name": "ipython",
    "version": 3
   },
   "file_extension": ".py",
   "mimetype": "text/x-python",
   "name": "python",
   "nbconvert_exporter": "python",
   "pygments_lexer": "ipython3",
   "version": "3.11.11"
  }
 },
 "nbformat": 4,
 "nbformat_minor": 5
}
