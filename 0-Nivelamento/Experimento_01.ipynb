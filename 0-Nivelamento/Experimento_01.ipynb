{
 "cells": [
  {
   "cell_type": "markdown",
   "id": "848fbcf9",
   "metadata": {},
   "source": [
    "## Experimento 1 — Hello Python\n",
    "**Objetivo:** aquecer no Python com impressão de mensagens e operações básicas.\n",
    "\n",
    "**Enunciado:**  \n",
    "1. Escreva um programa que imprima uma mensagem de boas-vindas e realize 3 operações aritméticas simples.  \n",
    "2. **Tarefa Extra:** adapte o código para **ler dois números do usuário** e imprimir a **soma formatada** com duas casas decimais.\n"
   ]
  },
  {
   "cell_type": "code",
   "execution_count": 1,
   "id": "5908132e",
   "metadata": {},
   "outputs": [
    {
     "name": "stdout",
     "output_type": "stream",
     "text": [
      "Bem-vindos ao curso!\n",
      "Resultados: 10 6 30\n"
     ]
    }
   ],
   "source": [
    "# Código-base\n",
    "print(\"Bem-vindos ao curso!\")\n",
    "a = 7 + 3\n",
    "b = 10 - 4\n",
    "c = 5 * 6\n",
    "print(\"Resultados:\", a, b, c)\n"
   ]
  },
  {
   "cell_type": "markdown",
   "id": "9da93be6",
   "metadata": {},
   "source": [
    "### Extra\n",
    "- Use `input()` para ler dois valores.\n",
    "- Converta as strings para `float` ou `int`.\n",
    "- Use f-string para formatar a saída com 2 casas decimais.\n"
   ]
  }
 ],
 "metadata": {
  "kernelspec": {
   "display_name": "myenv",
   "language": "python",
   "name": "python3"
  },
  "language_info": {
   "codemirror_mode": {
    "name": "ipython",
    "version": 3
   },
   "file_extension": ".py",
   "mimetype": "text/x-python",
   "name": "python",
   "nbconvert_exporter": "python",
   "pygments_lexer": "ipython3",
   "version": "3.11.11"
  }
 },
 "nbformat": 4,
 "nbformat_minor": 5
}
