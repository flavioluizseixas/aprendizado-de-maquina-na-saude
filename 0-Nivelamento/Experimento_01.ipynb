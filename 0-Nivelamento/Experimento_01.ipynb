{
 "cells": [
  {
   "cell_type": "markdown",
   "id": "7119d8bb",
   "metadata": {},
   "source": [
    "# Nivelamento – Parte 1 (22/08)\n",
    "## Experimento 2\n",
    "Notebook individual."
   ]
  },
  {
   "cell_type": "code",
   "execution_count": null,
   "id": "16da71fc",
   "metadata": {},
   "outputs": [],
   "source": [
    "# ============== 1) Configuração Inicial ==============\n",
    "import math\n",
    "import numpy as np\n",
    "import pandas as pd\n",
    "import matplotlib.pyplot as plt\n",
    "\n",
    "# sklearn (para os experimentos de ML)\n",
    "from sklearn.datasets import load_iris\n",
    "from sklearn.model_selection import train_test_split\n",
    "from sklearn.naive_bayes import GaussianNB\n",
    "from sklearn.svm import SVC\n",
    "from sklearn.neighbors import KNeighborsClassifier\n",
    "from sklearn.pipeline import Pipeline\n",
    "from sklearn.preprocessing import StandardScaler\n",
    "from sklearn.metrics import accuracy_score, classification_report, confusion_matrix\n",
    "\n",
    "# Opção para gráficos inline (no Jupyter/Colab)\n",
    "# %matplotlib inline  # Descomente no Jupyter clássico se necessário\n",
    "\n",
    "RANDOM_STATE = 42\n",
    "np.random.seed(RANDOM_STATE)\n"
   ]
  },
  {
   "cell_type": "markdown",
   "id": "848fbcf9",
   "metadata": {},
   "source": [
    "## Experimento 1 — Hello Python\n",
    "**Objetivo:** aquecer no Python com impressão de mensagens e operações básicas.\n",
    "\n",
    "**Enunciado:**  \n",
    "1. Escreva um programa que imprima uma mensagem de boas-vindas e realize 3 operações aritméticas simples.  \n",
    "2. **Tarefa Extra:** adapte o código para **ler dois números do usuário** e imprimir a **soma formatada** com duas casas decimais.\n"
   ]
  },
  {
   "cell_type": "code",
   "execution_count": null,
   "id": "5908132e",
   "metadata": {},
   "outputs": [],
   "source": [
    "# Código-base\n",
    "print(\"Bem-vindos ao curso!\")\n",
    "a = 7 + 3\n",
    "b = 10 - 4\n",
    "c = 5 * 6\n",
    "print(\"Resultados:\", a, b, c)\n"
   ]
  },
  {
   "cell_type": "markdown",
   "id": "9da93be6",
   "metadata": {},
   "source": [
    "### Adaptação (Extra)\n",
    "- Use `input()` para ler dois valores.\n",
    "- Converta as strings para `float` ou `int`.\n",
    "- Use f-string para formatar a saída com 2 casas decimais.\n"
   ]
  },
  {
   "cell_type": "code",
   "execution_count": null,
   "id": "0c1ff323",
   "metadata": {},
   "outputs": [],
   "source": [
    "# Código final (com Extra)\n",
    "print(\"Bem-vindos ao curso!\")\n",
    "x = float(input(\"Digite o primeiro número: \"))\n",
    "y = float(input(\"Digite o segundo número: \"))\n",
    "soma = x + y\n",
    "print(f\"A soma de {x} + {y} = {soma:.2f}\")\n"
   ]
  }
 ],
 "metadata": {
  "kernelspec": {
   "display_name": "Python 3",
   "language": "python",
   "name": "python3"
  },
  "language_info": {
   "name": "python",
   "version": ""
  }
 },
 "nbformat": 4,
 "nbformat_minor": 5
}
