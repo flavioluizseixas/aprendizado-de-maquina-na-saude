{
 "cells": [
  {
   "cell_type": "markdown",
   "id": "2c64f64a",
   "metadata": {},
   "source": [
    "## Experimento 9 — Naive Bayes (Classificação)\n",
    "**Objetivo:** treinar um classificador simples e avaliar acurácia.\n",
    "\n",
    "**Enunciado:**  \n",
    "1. Carregue o **Iris**. Separe treino/teste (80/20).  \n",
    "2. Treine **Gaussian Naive Bayes** e avalie **acurácia**.  \n",
    "3. **Tarefa Extra:** use **apenas 2 features** e **visualize a fronteira de decisão** em 2D com `contourf` + `scatter`.\n"
   ]
  },
  {
   "cell_type": "markdown",
   "id": "f0b9b545",
   "metadata": {},
   "source": [
    "[![Abrir no Colab](https://colab.research.google.com/assets/colab-badge.svg)](https://colab.research.google.com/github/flavioluizseixas/aprendizado-de-maquina-na-saude/blob/main/0-Nivelamento/Experimento_09.ipynb)"
   ]
  },
  {
   "cell_type": "code",
   "execution_count": 9,
   "id": "6ae55156",
   "metadata": {},
   "outputs": [],
   "source": [
    "import math\n",
    "import numpy as np\n",
    "import pandas as pd\n",
    "import matplotlib.pyplot as plt\n",
    "\n",
    "# sklearn (para os experimentos de ML)\n",
    "from sklearn.datasets import load_iris\n",
    "from sklearn.model_selection import train_test_split\n",
    "from sklearn.naive_bayes import GaussianNB\n",
    "from sklearn.svm import SVC\n",
    "from sklearn.neighbors import KNeighborsClassifier\n",
    "from sklearn.pipeline import Pipeline\n",
    "from sklearn.preprocessing import StandardScaler\n",
    "from sklearn.metrics import accuracy_score, classification_report, confusion_matrix\n",
    "\n",
    "# Opção para gráficos inline (no Jupyter/Colab)\n",
    "# %matplotlib inline  # Descomente no Jupyter clássico se necessário\n",
    "\n",
    "RANDOM_STATE = 42\n",
    "np.random.seed(RANDOM_STATE)"
   ]
  },
  {
   "cell_type": "code",
   "execution_count": 10,
   "id": "d9c13b57",
   "metadata": {},
   "outputs": [
    {
     "name": "stdout",
     "output_type": "stream",
     "text": [
      "Acurácia (Naive Bayes): 0.967\n"
     ]
    }
   ],
   "source": [
    "# Código-base\n",
    "iris = load_iris()\n",
    "X = iris.data\n",
    "y = iris.target\n",
    "\n",
    "X_train, X_test, y_train, y_test = train_test_split(\n",
    "    X, y, test_size=0.2, random_state=RANDOM_STATE, stratify=y\n",
    ")\n",
    "\n",
    "gnb = GaussianNB()\n",
    "gnb.fit(X_train, y_train)\n",
    "pred = gnb.predict(X_test)\n",
    "acc = accuracy_score(y_test, pred)\n",
    "print(f\"Acurácia (Naive Bayes): {acc:.3f}\")\n"
   ]
  },
  {
   "cell_type": "markdown",
   "id": "a3bf14b1",
   "metadata": {},
   "source": [
    "### Extra\n",
    "- Escolha duas colunas (ex.: 0 e 2).  \n",
    "- Gere uma malha de pontos (`np.meshgrid`) no espaço 2D.  \n",
    "- Classifique a malha e plote `contourf` da decisão + `scatter` dos dados reais.\n"
   ]
  }
 ],
 "metadata": {
  "kernelspec": {
   "display_name": "myenv",
   "language": "python",
   "name": "python3"
  },
  "language_info": {
   "codemirror_mode": {
    "name": "ipython",
    "version": 3
   },
   "file_extension": ".py",
   "mimetype": "text/x-python",
   "name": "python",
   "nbconvert_exporter": "python",
   "pygments_lexer": "ipython3",
   "version": "3.11.11"
  }
 },
 "nbformat": 4,
 "nbformat_minor": 5
}
